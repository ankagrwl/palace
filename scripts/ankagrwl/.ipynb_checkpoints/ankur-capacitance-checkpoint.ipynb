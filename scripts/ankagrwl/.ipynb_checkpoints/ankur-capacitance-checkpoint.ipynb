{
 "cells": [
  {
   "cell_type": "markdown",
   "metadata": {},
   "source": [
    "# Imports"
   ]
  },
  {
   "cell_type": "code",
   "execution_count": 1,
   "metadata": {},
   "outputs": [],
   "source": [
    "%matplotlib notebook\n",
    "import numpy as np\n",
    "from scipy.constants import epsilon_0\n",
    "from scipy.special import eval_legendre\n",
    "import matplotlib.pyplot as plt"
   ]
  },
  {
   "cell_type": "markdown",
   "metadata": {},
   "source": [
    "# Object definition"
   ]
  },
  {
   "cell_type": "code",
   "execution_count": 2,
   "metadata": {},
   "outputs": [],
   "source": [
    "class IdtCapacitance(object):\n",
    "\n",
    "    def __init__(self, lambda_0, nb_finger_pair, w, epsilon_inf_r, duty_cycle=0.5):\n",
    "        \"\"\"\n",
    "        Calculate IDT capacitance for a single finger pair transducer.\n",
    "\n",
    "        The equations comes from the book\n",
    "        Surface Acoustic Wave Filters\n",
    "        Morgan, D.\n",
    "        Elsevier Ltd., 2007\n",
    "\n",
    "        ...\n",
    "\n",
    "        Attributes\n",
    "        ----------\n",
    "        lambda_0 : float\n",
    "            IDT wavelength in meter\n",
    "        nb_finger_pair : float\n",
    "            Number of finger pair in the idt.\n",
    "            It is assumed the total number m of finger in the idt is even\n",
    "            and that nb_finger_pair = m/2\n",
    "        w : float\n",
    "            Transducer aperture in meter\n",
    "        epsilon_inf_r : float\n",
    "            Substrate relative infinity permitivity\n",
    "        duty_cycle : float, optional\n",
    "            Ratio finger_width/inter_finger_space also called transducer duty cycle\n",
    "            or metallization ratio.\n",
    "            The default is 0.5 which correspond to evenly spaced fingers.\n",
    "        \"\"\"\n",
    "        \n",
    "        self.lambda_0       = lambda_0\n",
    "        self.nb_finger_pair = nb_finger_pair\n",
    "        self.duty_cycle     = duty_cycle\n",
    "        self.w              = w\n",
    "        self.epsilon_inf_r  = epsilon_inf_r\n",
    "\n",
    "    def epsilon_inf(self):\n",
    "\n",
    "        return self.epsilon_inf_r*epsilon_0\n",
    "\n",
    "    def _cosD(self):\n",
    "        \"\"\"Morgan p. 136\"\"\"\n",
    "\n",
    "        return np.cos(np.pi*self.duty_cycle)\n",
    "\n",
    "    def ct(self):\n",
    "        \"\"\"\n",
    "        Return electric capacitance in Farad.\n",
    "        Morgan Eq. 5.79\n",
    "        \"\"\"\n",
    "        \n",
    "        # gamma=1, Se=2, nu=-0.5\n",
    "        return self.w*self.nb_finger_pair*self.epsilon_inf()\\\n",
    "               *eval_legendre(-0.5,  self._cosD())\\\n",
    "               /eval_legendre(-0.5, -self._cosD())\n",
    "\n",
    "idt = IdtCapacitance(6e-6, 60., 20e-6, 56.)"
   ]
  },
  {
   "cell_type": "markdown",
   "metadata": {},
   "source": [
    "# Calculation"
   ]
  },
  {
   "cell_type": "code",
   "execution_count": 18,
   "metadata": {},
   "outputs": [
    {
     "data": {
      "text/plain": [
       "5.950014213440902e-13"
      ]
     },
     "execution_count": 18,
     "metadata": {},
     "output_type": "execute_result"
    }
   ],
   "source": [
    "idt.ct()"
   ]
  },
  {
   "cell_type": "code",
   "execution_count": 8,
   "metadata": {},
   "outputs": [
    {
     "data": {
      "text/plain": [
       "6.7468911133536e-14"
      ]
     },
     "execution_count": 8,
     "metadata": {},
     "output_type": "execute_result"
    }
   ],
   "source": [
    "# lambda_0 = \n",
    "\n",
    "idt = IdtCapacitance((2*20+2*10)*1e-6*25.4, 2., 50e-6*25.4, 3.0)\n",
    "idt.ct()"
   ]
  },
  {
   "cell_type": "code",
   "execution_count": null,
   "metadata": {},
   "outputs": [],
   "source": []
  }
 ],
 "metadata": {
  "kernelspec": {
   "display_name": "Python 3 (ipykernel)",
   "language": "python",
   "name": "python3"
  },
  "language_info": {
   "codemirror_mode": {
    "name": "ipython",
    "version": 3
   },
   "file_extension": ".py",
   "mimetype": "text/x-python",
   "name": "python",
   "nbconvert_exporter": "python",
   "pygments_lexer": "ipython3",
   "version": "3.10.12"
  }
 },
 "nbformat": 4,
 "nbformat_minor": 4
}
